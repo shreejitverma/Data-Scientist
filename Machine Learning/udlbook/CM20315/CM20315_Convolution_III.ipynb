{
  "nbformat": 4,
  "nbformat_minor": 0,
  "metadata": {
    "colab": {
      "provenance": [],
      "authorship_tag": "ABX9TyM4FAP7pqe8LpKfmixZN07G",
      "include_colab_link": true
    },
    "kernelspec": {
      "name": "python3",
      "display_name": "Python 3"
    },
    "language_info": {
      "name": "python"
    }
  },
  "cells": [
    {
      "cell_type": "markdown",
      "metadata": {
        "id": "view-in-github",
        "colab_type": "text"
      },
      "source": [
        "<a href=\"https://colab.research.google.com/github/udlbook/udlbook/blob/main/CM20315_Convolution_III.ipynb\" target=\"_parent\"><img src=\"https://colab.research.google.com/assets/colab-badge.svg\" alt=\"Open In Colab\"/></a>"
      ]
    },
    {
      "cell_type": "markdown",
      "source": [
        "# Convolution III -- MNIST\n",
        "\n",
        "This notebook builds a proper network for 2D convolution.  It works with the MNIST dataset, which was the original classic dataset for classifying images.  The network will take a 28x28 grayscale image and classify it into one of 10 classes representing a digit.\n"
      ],
      "metadata": {
        "id": "t9vk9Elugvmi"
      }
    },
    {
      "cell_type": "code",
      "source": [
        "import torch\n",
        "import torchvision\n",
        "import torch.nn as nn\n",
        "import torch.nn.functional as F\n",
        "import torch.optim as optim\n",
        "import matplotlib.pyplot as plt\n",
        "import random"
      ],
      "metadata": {
        "id": "YrXWAH7sUWvU"
      },
      "execution_count": 1,
      "outputs": []
    },
    {
      "cell_type": "code",
      "source": [
        "# Run this once to load the train and test data straight into a dataloader class\n",
        "# that will provide the batches\n",
        "batch_size_train = 64\n",
        "batch_size_test = 1000\n",
        "train_loader = torch.utils.data.DataLoader(\n",
        "  torchvision.datasets.MNIST('/files/', train=True, download=True,\n",
        "                             transform=torchvision.transforms.Compose([\n",
        "                               torchvision.transforms.ToTensor(),\n",
        "                               torchvision.transforms.Normalize(\n",
        "                                 (0.1307,), (0.3081,))\n",
        "                             ])),\n",
        "  batch_size=batch_size_train, shuffle=True)\n",
        "\n",
        "test_loader = torch.utils.data.DataLoader(\n",
        "  torchvision.datasets.MNIST('/files/', train=False, download=True,\n",
        "                             transform=torchvision.transforms.Compose([\n",
        "                               torchvision.transforms.ToTensor(),\n",
        "                               torchvision.transforms.Normalize(\n",
        "                                 (0.1307,), (0.3081,))\n",
        "                             ])),\n",
        "  batch_size=batch_size_test, shuffle=True)"
      ],
      "metadata": {
        "id": "wScBGXXFVadm"
      },
      "execution_count": 2,
      "outputs": []
    },
    {
      "cell_type": "code",
      "source": [
        "# Let's draw some of the training data\n",
        "examples = enumerate(test_loader)\n",
        "batch_idx, (example_data, example_targets) = next(examples)\n",
        "\n",
        "fig = plt.figure()\n",
        "for i in range(6):\n",
        "  plt.subplot(2,3,i+1)\n",
        "  plt.tight_layout()\n",
        "  plt.imshow(example_data[i][0], cmap='gray', interpolation='none')\n",
        "  plt.title(\"Ground Truth: {}\".format(example_targets[i]))\n",
        "  plt.xticks([])\n",
        "  plt.yticks([])\n",
        "plt.show()"
      ],
      "metadata": {
        "id": "8bKADvLHbiV5",
        "colab": {
          "base_uri": "https://localhost:8080/",
          "height": 284
        },
        "outputId": "ec39acb8-05e0-48ae-cb6e-1b8578d00e68"
      },
      "execution_count": 3,
      "outputs": [
        {
          "output_type": "display_data",
          "data": {
            "text/plain": [
              "<Figure size 432x288 with 6 Axes>"
            ],
            "image/png": "[encoded data removed]"
          },
          "metadata": {}
        }
      ]
    },
    {
      "cell_type": "markdown",
      "source": [
        "Define the network.  This is a more typical way to define a network than the sequential structure.  We define a class for the network, and define the parameters in the constructor.  Then we use a function called forward to actually run the network. "
      ],
      "metadata": {
        "id": "_sFvRDGrl4qe"
      }
    },
    {
      "cell_type": "code",
      "source": [
        "from os import X_OK\n",
        "# TODO Change this class to implement\n",
        "# 1. A valid convolution with kernel size 5, 1 input channel and 10 output channels\n",
        "# 2. A max pooling operation over a 2x2 area\n",
        "# 3. A Relu\n",
        "# 4. A valid convolution with kernel size 5, 10 input channels and 20 output channels\n",
        "# 5. A 2D Dropout layer\n",
        "# 6. A max pooling operation over a 2x2 area\n",
        "# 7. A relu\n",
        "# 8. A flattening operation\n",
        "# 9. A fully connected layer mapping from (whatever dimensions we are at-- find out using .shape) to 50 \n",
        "# 10. A ReLU\n",
        "# 11. A fully connected layer mappiing from 50 to 10 dimensions\n",
        "# 12. A softmax function.\n",
        "\n",
        "# Replace this class which implements a minimal network (which still does okay)\n",
        "class Net(nn.Module):\n",
        "    def __init__(self):\n",
        "        super(Net, self).__init__()\n",
        "        # Valid convolution, 1 channel in, 3 channels out, stride 1, kernel size = 5\n",
        "        self.conv1 = nn.Conv2d(1, 3, kernel_size=5)\n",
        "        # Dropout for convolutions\n",
        "        self.drop = nn.Dropout2d()\n",
        "        # Fully connected layer\n",
        "        self.fc1 = nn.Linear(432, 10)\n",
        "\n",
        "    def forward(self, x):\n",
        "        x = self.conv1(x)\n",
        "        x = self.drop(x)\n",
        "        x = F.max_pool2d(x,2)\n",
        "        x = F.relu(x)\n",
        "        x = x.flatten(1)\n",
        "        x = self.fc1(x)\n",
        "        x = F.log_softmax(x)\n",
        "        return x"
      ],
      "metadata": {
        "id": "EQkvw2KOPVl7"
      },
      "execution_count": 4,
      "outputs": []
    },
    {
      "cell_type": "code",
      "source": [
        "# He initialization of weights\n",
        "def weights_init(layer_in):\n",
        "  if isinstance(layer_in, nn.Linear):\n",
        "    nn.init.kaiming_uniform_(layer_in.weight)\n",
        "    layer_in.bias.data.fill_(0.0)"
      ],
      "metadata": {
        "id": "qWZtkCZcU_dg"
      },
      "execution_count": 5,
      "outputs": []
    },
    {
      "cell_type": "code",
      "source": [
        "# Create network\n",
        "model = Net()\n",
        "# Initialize model weights\n",
        "model.apply(weights_init)\n",
        "# Define optimizer\n",
        "optimizer = optim.SGD(model.parameters(), lr=0.01, momentum=0.5)\n"
      ],
      "metadata": {
        "id": "FslroPJJffrh"
      },
      "execution_count": 6,
      "outputs": []
    },
    {
      "cell_type": "code",
      "source": [
        "def train(epoch):\n",
        "  model.train()\n",
        "  # Get each \n",
        "  for batch_idx, (data, target) in enumerate(train_loader):\n",
        "    optimizer.zero_grad()\n",
        "    output = model(data)\n",
        "    loss = F.nll_loss(output, target)\n",
        "    loss.backward()\n",
        "    optimizer.step()\n",
        "    # Store results\n",
        "    if batch_idx % 10 == 0:\n",
        "      print('Train Epoch: {} [{}/{}]\\tLoss: {:.6f}'.format(\n",
        "        epoch, batch_idx * len(data), len(train_loader.dataset), loss.item()))"
      ],
      "metadata": {
        "id": "xKQd9PzkQ766"
      },
      "execution_count": 7,
      "outputs": []
    },
    {
      "cell_type": "code",
      "source": [
        "def test():\n",
        "  model.eval()\n",
        "  test_loss = 0\n",
        "  correct = 0\n",
        "  with torch.no_grad():\n",
        "    for data, target in test_loader:\n",
        "      output = model(data)\n",
        "      test_loss += F.nll_loss(output, target, size_average=False).item()\n",
        "      pred = output.data.max(1, keepdim=True)[1]\n",
        "      correct += pred.eq(target.data.view_as(pred)).sum()\n",
        "  test_loss /= len(test_loader.dataset)\n",
        "  print('\\nTest set: Avg. loss: {:.4f}, Accuracy: {}/{} ({:.0f}%)\\n'.format(\n",
        "    test_loss, correct, len(test_loader.dataset),\n",
        "    100. * correct / len(test_loader.dataset)))"
      ],
      "metadata": {
        "id": "Byn-f7qWRLxX"
      },
      "execution_count": 8,
      "outputs": []
    },
    {
      "cell_type": "code",
      "source": [
        "# Get initial performance\n",
        "test()\n",
        "# Train for three epochs\n",
        "n_epochs = 3\n",
        "for epoch in range(1, n_epochs + 1):\n",
        "  train(epoch)\n",
        "  test()"
      ],
      "metadata": {
        "id": "YgLaex1pfhqz",
        "colab": {
          "base_uri": "https://localhost:8080/"
        },
        "outputId": "96b4a0e4-94b3-4eba-ea1a-53f6f5ee8792"
      },
      "execution_count": 9,
      "outputs": [
        {
          "output_type": "stream",
          "name": "stderr",
          "text": [
            "<ipython-input-4-06d48cc8472b>:34: UserWarning: Implicit dimension choice for log_softmax has been deprecated. Change the call to include dim=X as an argument.\n",
            "  x = F.log_softmax(x)\n",
            "/usr/local/lib/python3.8/dist-packages/torch/nn/_reduction.py:42: UserWarning: size_average and reduce args will be deprecated, please use reduction='sum' instead.\n",
            "  warnings.warn(warning.format(ret))\n"
          ]
        },
        {
          "output_type": "stream",
          "name": "stdout",
          "text": [
            "\n",
            "Test set: Avg. loss: 2.6743, Accuracy: 593/10000 (6%)\n",
            "\n",
            "Train Epoch: 1 [0/60000]\tLoss: 3.022157\n",
            "Train Epoch: 1 [640/60000]\tLoss: 2.232255\n",
            "Train Epoch: 1 [1280/60000]\tLoss: 2.339070\n",
            "Train Epoch: 1 [1920/60000]\tLoss: 2.123211\n",
            "Train Epoch: 1 [2560/60000]\tLoss: 1.977328\n",
            "Train Epoch: 1 [3200/60000]\tLoss: 1.794155\n",
            "Train Epoch: 1 [3840/60000]\tLoss: 1.607425\n",
            "Train Epoch: 1 [4480/60000]\tLoss: 1.265900\n",
            "Train Epoch: 1 [5120/60000]\tLoss: 1.380399\n",
            "Train Epoch: 1 [5760/60000]\tLoss: 1.443841\n",
            "Train Epoch: 1 [6400/60000]\tLoss: 0.962643\n",
            "Train Epoch: 1 [7040/60000]\tLoss: 1.050701\n",
            "Train Epoch: 1 [7680/60000]\tLoss: 0.882971\n",
            "Train Epoch: 1 [8320/60000]\tLoss: 1.056942\n",
            "Train Epoch: 1 [8960/60000]\tLoss: 1.204123\n",
            "Train Epoch: 1 [9600/60000]\tLoss: 0.875873\n",
            "Train Epoch: 1 [10240/60000]\tLoss: 0.952260\n",
            "Train Epoch: 1 [10880/60000]\tLoss: 0.751124\n",
            "Train Epoch: 1 [11520/60000]\tLoss: 0.867441\n",
            "Train Epoch: 1 [12160/60000]\tLoss: 0.956779\n",
            "Train Epoch: 1 [12800/60000]\tLoss: 0.679759\n",
            "Train Epoch: 1 [13440/60000]\tLoss: 0.949922\n",
            "Train Epoch: 1 [14080/60000]\tLoss: 0.859521\n",
            "Train Epoch: 1 [14720/60000]\tLoss: 0.948663\n",
            "Train Epoch: 1 [15360/60000]\tLoss: 0.584370\n",
            "Train Epoch: 1 [16000/60000]\tLoss: 0.865371\n",
            "Train Epoch: 1 [16640/60000]\tLoss: 0.726936\n",
            "Train Epoch: 1 [17280/60000]\tLoss: 0.598072\n",
            "Train Epoch: 1 [17920/60000]\tLoss: 0.849646\n",
            "Train Epoch: 1 [18560/60000]\tLoss: 0.793431\n",
            "Train Epoch: 1 [19200/60000]\tLoss: 0.720634\n",
            "Train Epoch: 1 [19840/60000]\tLoss: 0.770133\n",
            "Train Epoch: 1 [20480/60000]\tLoss: 0.888984\n",
            "Train Epoch: 1 [21120/60000]\tLoss: 0.595875\n",
            "Train Epoch: 1 [21760/60000]\tLoss: 0.750772\n",
            "Train Epoch: 1 [22400/60000]\tLoss: 0.829312\n",
            "Train Epoch: 1 [23040/60000]\tLoss: 0.896843\n",
            "Train Epoch: 1 [23680/60000]\tLoss: 0.762636\n",
            "Train Epoch: 1 [24320/60000]\tLoss: 0.806846\n",
            "Train Epoch: 1 [24960/60000]\tLoss: 0.767578\n",
            "Train Epoch: 1 [25600/60000]\tLoss: 0.746623\n",
            "Train Epoch: 1 [26240/60000]\tLoss: 0.742440\n",
            "Train Epoch: 1 [26880/60000]\tLoss: 1.142117\n",
            "Train Epoch: 1 [27520/60000]\tLoss: 0.772795\n",
            "Train Epoch: 1 [28160/60000]\tLoss: 0.555436\n",
            "Train Epoch: 1 [28800/60000]\tLoss: 0.763470\n",
            "Train Epoch: 1 [29440/60000]\tLoss: 0.632003\n",
            "Train Epoch: 1 [30080/60000]\tLoss: 0.836483\n",
            "Train Epoch: 1 [30720/60000]\tLoss: 0.704554\n",
            "Train Epoch: 1 [31360/60000]\tLoss: 0.862588\n",
            "Train Epoch: 1 [32000/60000]\tLoss: 0.582613\n",
            "Train Epoch: 1 [32640/60000]\tLoss: 0.784028\n",
            "Train Epoch: 1 [33280/60000]\tLoss: 0.758522\n",
            "Train Epoch: 1 [33920/60000]\tLoss: 0.778791\n",
            "Train Epoch: 1 [34560/60000]\tLoss: 0.849997\n",
            "Train Epoch: 1 [35200/60000]\tLoss: 0.836082\n",
            "Train Epoch: 1 [35840/60000]\tLoss: 0.448398\n",
            "Train Epoch: 1 [36480/60000]\tLoss: 0.729314\n",
            "Train Epoch: 1 [37120/60000]\tLoss: 0.811088\n",
            "Train Epoch: 1 [37760/60000]\tLoss: 0.592963\n",
            "Train Epoch: 1 [38400/60000]\tLoss: 0.642293\n",
            "Train Epoch: 1 [39040/60000]\tLoss: 0.784302\n",
            "Train Epoch: 1 [39680/60000]\tLoss: 0.694944\n",
            "Train Epoch: 1 [40320/60000]\tLoss: 0.720275\n",
            "Train Epoch: 1 [40960/60000]\tLoss: 0.536233\n",
            "Train Epoch: 1 [41600/60000]\tLoss: 0.715839\n",
            "Train Epoch: 1 [42240/60000]\tLoss: 0.557930\n",
            "Train Epoch: 1 [42880/60000]\tLoss: 0.652230\n",
            "Train Epoch: 1 [43520/60000]\tLoss: 0.686960\n",
            "Train Epoch: 1 [44160/60000]\tLoss: 0.562727\n",
            "Train Epoch: 1 [44800/60000]\tLoss: 0.728505\n",
            "Train Epoch: 1 [45440/60000]\tLoss: 0.874868\n",
            "Train Epoch: 1 [46080/60000]\tLoss: 0.713117\n",
            "Train Epoch: 1 [46720/60000]\tLoss: 0.727794\n",
            "Train Epoch: 1 [47360/60000]\tLoss: 0.747727\n",
            "Train Epoch: 1 [48000/60000]\tLoss: 0.631520\n",
            "Train Epoch: 1 [48640/60000]\tLoss: 0.515534\n",
            "Train Epoch: 1 [49280/60000]\tLoss: 0.695285\n",
            "Train Epoch: 1 [49920/60000]\tLoss: 0.690564\n",
            "Train Epoch: 1 [50560/60000]\tLoss: 0.696663\n",
            "Train Epoch: 1 [51200/60000]\tLoss: 0.637634\n",
            "Train Epoch: 1 [51840/60000]\tLoss: 0.722715\n",
            "Train Epoch: 1 [52480/60000]\tLoss: 0.832013\n",
            "Train Epoch: 1 [53120/60000]\tLoss: 0.594781\n",
            "Train Epoch: 1 [53760/60000]\tLoss: 0.613957\n",
            "Train Epoch: 1 [54400/60000]\tLoss: 0.836092\n",
            "Train Epoch: 1 [55040/60000]\tLoss: 0.635827\n",
            "Train Epoch: 1 [55680/60000]\tLoss: 0.623362\n",
            "Train Epoch: 1 [56320/60000]\tLoss: 0.540473\n",
            "Train Epoch: 1 [56960/60000]\tLoss: 0.780923\n",
            "Train Epoch: 1 [57600/60000]\tLoss: 0.476055\n",
            "Train Epoch: 1 [58240/60000]\tLoss: 0.905469\n",
            "Train Epoch: 1 [58880/60000]\tLoss: 0.700290\n",
            "Train Epoch: 1 [59520/60000]\tLoss: 0.500782\n",
            "\n",
            "Test set: Avg. loss: 0.2170, Accuracy: 9355/10000 (94%)\n",
            "\n",
            "Train Epoch: 2 [0/60000]\tLoss: 0.530213\n",
            "Train Epoch: 2 [640/60000]\tLoss: 0.954322\n",
            "Train Epoch: 2 [1280/60000]\tLoss: 0.627641\n",
            "Train Epoch: 2 [1920/60000]\tLoss: 0.694282\n",
            "Train Epoch: 2 [2560/60000]\tLoss: 0.490609\n",
            "Train Epoch: 2 [3200/60000]\tLoss: 0.518218\n",
            "Train Epoch: 2 [3840/60000]\tLoss: 0.511994\n",
            "Train Epoch: 2 [4480/60000]\tLoss: 0.575610\n",
            "Train Epoch: 2 [5120/60000]\tLoss: 0.760527\n",
            "Train Epoch: 2 [5760/60000]\tLoss: 0.618076\n",
            "Train Epoch: 2 [6400/60000]\tLoss: 0.551507\n",
            "Train Epoch: 2 [7040/60000]\tLoss: 0.661573\n",
            "Train Epoch: 2 [7680/60000]\tLoss: 0.503254\n",
            "Train Epoch: 2 [8320/60000]\tLoss: 0.611196\n",
            "Train Epoch: 2 [8960/60000]\tLoss: 0.568107\n",
            "Train Epoch: 2 [9600/60000]\tLoss: 0.680320\n",
            "Train Epoch: 2 [10240/60000]\tLoss: 0.749674\n",
            "Train Epoch: 2 [10880/60000]\tLoss: 0.766421\n",
            "Train Epoch: 2 [11520/60000]\tLoss: 0.720416\n",
            "Train Epoch: 2 [12160/60000]\tLoss: 0.552917\n",
            "Train Epoch: 2 [12800/60000]\tLoss: 0.642536\n",
            "Train Epoch: 2 [13440/60000]\tLoss: 0.564653\n",
            "Train Epoch: 2 [14080/60000]\tLoss: 0.562467\n",
            "Train Epoch: 2 [14720/60000]\tLoss: 0.683435\n",
            "Train Epoch: 2 [15360/60000]\tLoss: 0.638271\n",
            "Train Epoch: 2 [16000/60000]\tLoss: 0.667720\n",
            "Train Epoch: 2 [16640/60000]\tLoss: 0.417489\n",
            "Train Epoch: 2 [17280/60000]\tLoss: 0.661206\n",
            "Train Epoch: 2 [17920/60000]\tLoss: 0.586723\n",
            "Train Epoch: 2 [18560/60000]\tLoss: 0.577134\n",
            "Train Epoch: 2 [19200/60000]\tLoss: 0.882659\n",
            "Train Epoch: 2 [19840/60000]\tLoss: 0.705308\n",
            "Train Epoch: 2 [20480/60000]\tLoss: 0.621367\n",
            "Train Epoch: 2 [21120/60000]\tLoss: 0.451295\n",
            "Train Epoch: 2 [21760/60000]\tLoss: 0.589745\n",
            "Train Epoch: 2 [22400/60000]\tLoss: 0.653456\n",
            "Train Epoch: 2 [23040/60000]\tLoss: 0.404559\n",
            "Train Epoch: 2 [23680/60000]\tLoss: 0.613846\n",
            "Train Epoch: 2 [24320/60000]\tLoss: 0.720263\n",
            "Train Epoch: 2 [24960/60000]\tLoss: 0.446476\n",
            "Train Epoch: 2 [25600/60000]\tLoss: 0.905395\n",
            "Train Epoch: 2 [26240/60000]\tLoss: 0.574859\n",
            "Train Epoch: 2 [26880/60000]\tLoss: 0.779760\n",
            "Train Epoch: 2 [27520/60000]\tLoss: 0.447516\n",
            "Train Epoch: 2 [28160/60000]\tLoss: 0.553814\n",
            "Train Epoch: 2 [28800/60000]\tLoss: 0.724654\n",
            "Train Epoch: 2 [29440/60000]\tLoss: 0.451007\n",
            "Train Epoch: 2 [30080/60000]\tLoss: 0.357663\n",
            "Train Epoch: 2 [30720/60000]\tLoss: 0.534665\n",
            "Train Epoch: 2 [31360/60000]\tLoss: 0.912386\n",
            "Train Epoch: 2 [32000/60000]\tLoss: 0.635334\n",
            "Train Epoch: 2 [32640/60000]\tLoss: 0.611335\n",
            "Train Epoch: 2 [33280/60000]\tLoss: 0.498800\n",
            "Train Epoch: 2 [33920/60000]\tLoss: 0.726310\n",
            "Train Epoch: 2 [34560/60000]\tLoss: 0.618861\n",
            "Train Epoch: 2 [35200/60000]\tLoss: 0.498235\n",
            "Train Epoch: 2 [35840/60000]\tLoss: 0.556707\n",
            "Train Epoch: 2 [36480/60000]\tLoss: 0.828103\n",
            "Train Epoch: 2 [37120/60000]\tLoss: 0.459869\n",
            "Train Epoch: 2 [37760/60000]\tLoss: 0.699695\n",
            "Train Epoch: 2 [38400/60000]\tLoss: 0.746511\n",
            "Train Epoch: 2 [39040/60000]\tLoss: 0.620254\n",
            "Train Epoch: 2 [39680/60000]\tLoss: 0.685517\n",
            "Train Epoch: 2 [40320/60000]\tLoss: 0.444510\n",
            "Train Epoch: 2 [40960/60000]\tLoss: 0.607820\n",
            "Train Epoch: 2 [41600/60000]\tLoss: 0.453002\n",
            "Train Epoch: 2 [42240/60000]\tLoss: 0.575601\n",
            "Train Epoch: 2 [42880/60000]\tLoss: 0.521206\n",
            "Train Epoch: 2 [43520/60000]\tLoss: 0.505593\n",
            "Train Epoch: 2 [44160/60000]\tLoss: 0.494645\n",
            "Train Epoch: 2 [44800/60000]\tLoss: 0.445350\n",
            "Train Epoch: 2 [45440/60000]\tLoss: 1.022786\n",
            "Train Epoch: 2 [46080/60000]\tLoss: 0.934101\n",
            "Train Epoch: 2 [46720/60000]\tLoss: 0.581446\n",
            "Train Epoch: 2 [47360/60000]\tLoss: 0.565760\n",
            "Train Epoch: 2 [48000/60000]\tLoss: 0.418244\n",
            "Train Epoch: 2 [48640/60000]\tLoss: 1.008578\n",
            "Train Epoch: 2 [49280/60000]\tLoss: 0.604322\n",
            "Train Epoch: 2 [49920/60000]\tLoss: 0.721556\n",
            "Train Epoch: 2 [50560/60000]\tLoss: 0.521967\n",
            "Train Epoch: 2 [51200/60000]\tLoss: 0.410529\n",
            "Train Epoch: 2 [51840/60000]\tLoss: 0.719665\n",
            "Train Epoch: 2 [52480/60000]\tLoss: 0.718958\n",
            "Train Epoch: 2 [53120/60000]\tLoss: 0.678785\n",
            "Train Epoch: 2 [53760/60000]\tLoss: 0.497077\n",
            "Train Epoch: 2 [54400/60000]\tLoss: 0.617133\n",
            "Train Epoch: 2 [55040/60000]\tLoss: 0.468108\n",
            "Train Epoch: 2 [55680/60000]\tLoss: 0.576436\n",
            "Train Epoch: 2 [56320/60000]\tLoss: 0.433144\n",
            "Train Epoch: 2 [56960/60000]\tLoss: 0.715489\n",
            "Train Epoch: 2 [57600/60000]\tLoss: 0.386602\n",
            "Train Epoch: 2 [58240/60000]\tLoss: 0.258836\n",
            "Train Epoch: 2 [58880/60000]\tLoss: 0.300112\n",
            "Train Epoch: 2 [59520/60000]\tLoss: 0.549713\n",
            "\n",
            "Test set: Avg. loss: 0.1792, Accuracy: 9485/10000 (95%)\n",
            "\n",
            "Train Epoch: 3 [0/60000]\tLoss: 0.411068\n",
            "Train Epoch: 3 [640/60000]\tLoss: 0.617724\n",
            "Train Epoch: 3 [1280/60000]\tLoss: 0.573067\n",
            "Train Epoch: 3 [1920/60000]\tLoss: 0.783076\n",
            "Train Epoch: 3 [2560/60000]\tLoss: 0.673770\n",
            "Train Epoch: 3 [3200/60000]\tLoss: 0.554354\n",
            "Train Epoch: 3 [3840/60000]\tLoss: 0.984257\n",
            "Train Epoch: 3 [4480/60000]\tLoss: 0.530157\n",
            "Train Epoch: 3 [5120/60000]\tLoss: 0.612170\n",
            "Train Epoch: 3 [5760/60000]\tLoss: 0.679237\n",
            "Train Epoch: 3 [6400/60000]\tLoss: 0.645367\n",
            "Train Epoch: 3 [7040/60000]\tLoss: 0.436184\n",
            "Train Epoch: 3 [7680/60000]\tLoss: 0.745752\n",
            "Train Epoch: 3 [8320/60000]\tLoss: 0.474170\n",
            "Train Epoch: 3 [8960/60000]\tLoss: 0.337120\n",
            "Train Epoch: 3 [9600/60000]\tLoss: 0.746035\n",
            "Train Epoch: 3 [10240/60000]\tLoss: 0.606994\n",
            "Train Epoch: 3 [10880/60000]\tLoss: 0.590475\n",
            "Train Epoch: 3 [11520/60000]\tLoss: 0.506705\n",
            "Train Epoch: 3 [12160/60000]\tLoss: 0.531224\n",
            "Train Epoch: 3 [12800/60000]\tLoss: 0.573767\n",
            "Train Epoch: 3 [13440/60000]\tLoss: 0.489704\n",
            "Train Epoch: 3 [14080/60000]\tLoss: 0.381763\n",
            "Train Epoch: 3 [14720/60000]\tLoss: 0.788660\n",
            "Train Epoch: 3 [15360/60000]\tLoss: 0.398151\n",
            "Train Epoch: 3 [16000/60000]\tLoss: 0.673685\n",
            "Train Epoch: 3 [16640/60000]\tLoss: 0.442040\n",
            "Train Epoch: 3 [17280/60000]\tLoss: 0.400728\n",
            "Train Epoch: 3 [17920/60000]\tLoss: 0.665893\n",
            "Train Epoch: 3 [18560/60000]\tLoss: 0.680546\n",
            "Train Epoch: 3 [19200/60000]\tLoss: 0.699877\n",
            "Train Epoch: 3 [19840/60000]\tLoss: 0.656768\n",
            "Train Epoch: 3 [20480/60000]\tLoss: 0.564827\n",
            "Train Epoch: 3 [21120/60000]\tLoss: 0.575950\n",
            "Train Epoch: 3 [21760/60000]\tLoss: 0.414778\n",
            "Train Epoch: 3 [22400/60000]\tLoss: 0.561424\n",
            "Train Epoch: 3 [23040/60000]\tLoss: 0.688791\n",
            "Train Epoch: 3 [23680/60000]\tLoss: 0.567774\n",
            "Train Epoch: 3 [24320/60000]\tLoss: 0.525123\n",
            "Train Epoch: 3 [24960/60000]\tLoss: 0.697168\n",
            "Train Epoch: 3 [25600/60000]\tLoss: 0.623199\n",
            "Train Epoch: 3 [26240/60000]\tLoss: 0.404254\n",
            "Train Epoch: 3 [26880/60000]\tLoss: 0.565381\n",
            "Train Epoch: 3 [27520/60000]\tLoss: 0.609798\n",
            "Train Epoch: 3 [28160/60000]\tLoss: 0.753811\n",
            "Train Epoch: 3 [28800/60000]\tLoss: 0.389456\n",
            "Train Epoch: 3 [29440/60000]\tLoss: 0.436780\n",
            "Train Epoch: 3 [30080/60000]\tLoss: 0.636898\n",
            "Train Epoch: 3 [30720/60000]\tLoss: 0.599510\n",
            "Train Epoch: 3 [31360/60000]\tLoss: 0.629284\n",
            "Train Epoch: 3 [32000/60000]\tLoss: 0.505906\n",
            "Train Epoch: 3 [32640/60000]\tLoss: 0.741626\n",
            "Train Epoch: 3 [33280/60000]\tLoss: 0.642386\n",
            "Train Epoch: 3 [33920/60000]\tLoss: 0.635572\n",
            "Train Epoch: 3 [34560/60000]\tLoss: 0.639967\n",
            "Train Epoch: 3 [35200/60000]\tLoss: 0.720257\n",
            "Train Epoch: 3 [35840/60000]\tLoss: 0.478147\n",
            "Train Epoch: 3 [36480/60000]\tLoss: 0.685794\n",
            "Train Epoch: 3 [37120/60000]\tLoss: 0.421208\n",
            "Train Epoch: 3 [37760/60000]\tLoss: 0.584400\n",
            "Train Epoch: 3 [38400/60000]\tLoss: 0.702878\n",
            "Train Epoch: 3 [39040/60000]\tLoss: 0.667306\n",
            "Train Epoch: 3 [39680/60000]\tLoss: 0.369802\n",
            "Train Epoch: 3 [40320/60000]\tLoss: 0.655229\n",
            "Train Epoch: 3 [40960/60000]\tLoss: 0.490676\n",
            "Train Epoch: 3 [41600/60000]\tLoss: 0.446377\n",
            "Train Epoch: 3 [42240/60000]\tLoss: 0.393590\n",
            "Train Epoch: 3 [42880/60000]\tLoss: 0.618019\n",
            "Train Epoch: 3 [43520/60000]\tLoss: 0.411980\n",
            "Train Epoch: 3 [44160/60000]\tLoss: 0.757768\n",
            "Train Epoch: 3 [44800/60000]\tLoss: 0.506138\n",
            "Train Epoch: 3 [45440/60000]\tLoss: 0.457559\n",
            "Train Epoch: 3 [46080/60000]\tLoss: 0.427676\n",
            "Train Epoch: 3 [46720/60000]\tLoss: 0.525319\n",
            "Train Epoch: 3 [47360/60000]\tLoss: 0.454945\n",
            "Train Epoch: 3 [48000/60000]\tLoss: 0.300189\n",
            "Train Epoch: 3 [48640/60000]\tLoss: 0.571119\n",
            "Train Epoch: 3 [49280/60000]\tLoss: 0.796717\n",
            "Train Epoch: 3 [49920/60000]\tLoss: 0.410930\n",
            "Train Epoch: 3 [50560/60000]\tLoss: 0.679963\n",
            "Train Epoch: 3 [51200/60000]\tLoss: 0.625742\n",
            "Train Epoch: 3 [51840/60000]\tLoss: 0.506195\n",
            "Train Epoch: 3 [52480/60000]\tLoss: 0.527920\n",
            "Train Epoch: 3 [53120/60000]\tLoss: 0.477663\n",
            "Train Epoch: 3 [53760/60000]\tLoss: 0.429325\n",
            "Train Epoch: 3 [54400/60000]\tLoss: 0.561766\n",
            "Train Epoch: 3 [55040/60000]\tLoss: 0.622166\n",
            "Train Epoch: 3 [55680/60000]\tLoss: 0.454855\n",
            "Train Epoch: 3 [56320/60000]\tLoss: 0.564210\n",
            "Train Epoch: 3 [56960/60000]\tLoss: 0.408687\n",
            "Train Epoch: 3 [57600/60000]\tLoss: 0.639709\n",
            "Train Epoch: 3 [58240/60000]\tLoss: 0.516085\n",
            "Train Epoch: 3 [58880/60000]\tLoss: 0.692927\n",
            "Train Epoch: 3 [59520/60000]\tLoss: 0.301529\n",
            "\n",
            "Test set: Avg. loss: 0.1659, Accuracy: 9509/10000 (95%)\n",
            "\n"
          ]
        }
      ]
    },
    {
      "cell_type": "code",
      "source": [
        "# Run network on data we got before and show predictions\n",
        "output = model(example_data)\n",
        "\n",
        "fig = plt.figure()\n",
        "for i in range(6):\n",
        "  plt.subplot(2,3,i+1)\n",
        "  plt.tight_layout()\n",
        "  plt.imshow(example_data[i][0], cmap='gray', interpolation='none')\n",
        "  plt.title(\"Prediction: {}\".format(\n",
        "    output.data.max(1, keepdim=True)[1][i].item()))\n",
        "  plt.xticks([])\n",
        "  plt.yticks([])\n",
        "plt.show()"
      ],
      "metadata": {
        "id": "o7fRUAy9Se1B",
        "colab": {
          "base_uri": "https://localhost:8080/",
          "height": 320
        },
        "outputId": "de0d09a1-092d-4653-b6f6-c2d191c33441"
      },
      "execution_count": 10,
      "outputs": [
        {
          "output_type": "stream",
          "name": "stderr",
          "text": [
            "<ipython-input-4-06d48cc8472b>:34: UserWarning: Implicit dimension choice for log_softmax has been deprecated. Change the call to include dim=X as an argument.\n",
            "  x = F.log_softmax(x)\n"
          ]
        },
        {
          "output_type": "display_data",
          "data": {
            "text/plain": [
              "<Figure size 432x288 with 6 Axes>"
            ],
            "image/png": "[encoded data removed]"
          },
          "metadata": {}
        }
      ]
    },
    {
      "cell_type": "markdown",
      "source": [
        "I reckon you probably know enough to download imagenet and reproduce AlexNet. You probably have to do that locally (or pay Google for CoLab space) as there are more than a million images involved though.  Good project for the Xmas holidays... build AlexNet, build VGG, build ResNet200."
      ],
      "metadata": {
        "id": "g-9j4p8flcpB"
      }
    }
  ]
}
